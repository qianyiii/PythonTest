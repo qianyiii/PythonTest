{
 "cells": [
  {
   "cell_type": "code",
   "execution_count": 1,
   "id": "5514171e-d5a3-4247-95a6-a34936b55d2b",
   "metadata": {},
   "outputs": [
    {
     "name": "stdout",
     "output_type": "stream",
     "text": [
      "\n",
      "Current word: _ _ _ _ _ _ _ _\n",
      "\n",
      "    -----\n",
      "    |   |\n",
      "        |\n",
      "        |\n",
      "        |\n",
      "        |\n",
      "    ---------\n",
      "    \n",
      "Incorrect guesses: 0\n"
     ]
    },
    {
     "name": "stdin",
     "output_type": "stream",
     "text": [
      "Guess a letter:  j\n"
     ]
    },
    {
     "name": "stdout",
     "output_type": "stream",
     "text": [
      "Sorry, J is not in the word.\n",
      "\n",
      "Current word: _ _ _ _ _ _ _ _\n",
      "\n",
      "    -----\n",
      "    |   |\n",
      "    O   |\n",
      "        |\n",
      "        |\n",
      "        |\n",
      "    ---------\n",
      "    \n",
      "Incorrect guesses: 1\n"
     ]
    },
    {
     "name": "stdin",
     "output_type": "stream",
     "text": [
      "Guess a letter:  p\n"
     ]
    },
    {
     "name": "stdout",
     "output_type": "stream",
     "text": [
      "Good job! P is in the word.\n",
      "\n",
      "Current word: P _ _ _ _ _ _ _\n",
      "\n",
      "    -----\n",
      "    |   |\n",
      "    O   |\n",
      "        |\n",
      "        |\n",
      "        |\n",
      "    ---------\n",
      "    \n",
      "Incorrect guesses: 1\n"
     ]
    },
    {
     "name": "stdin",
     "output_type": "stream",
     "text": [
      "Guess a letter:  r\n"
     ]
    },
    {
     "name": "stdout",
     "output_type": "stream",
     "text": [
      "Sorry, R is not in the word.\n",
      "\n",
      "Current word: P _ _ _ _ _ _ _\n",
      "\n",
      "    -----\n",
      "    |   |\n",
      "    O   |\n",
      "    |   |\n",
      "        |\n",
      "        |\n",
      "    ---------\n",
      "    \n",
      "Incorrect guesses: 2\n"
     ]
    },
    {
     "name": "stdin",
     "output_type": "stream",
     "text": [
      "Guess a letter:  g\n"
     ]
    },
    {
     "name": "stdout",
     "output_type": "stream",
     "text": [
      "Sorry, G is not in the word.\n",
      "\n",
      "Current word: P _ _ _ _ _ _ _\n",
      "\n",
      "    -----\n",
      "    |   |\n",
      "    O   |\n",
      "   /|   |\n",
      "        |\n",
      "        |\n",
      "    ---------\n",
      "    \n",
      "Incorrect guesses: 3\n"
     ]
    },
    {
     "name": "stdin",
     "output_type": "stream",
     "text": [
      "Guess a letter:  o\n"
     ]
    },
    {
     "name": "stdout",
     "output_type": "stream",
     "text": [
      "Good job! O is in the word.\n",
      "\n",
      "Current word: P _ _ _ O _ _ _\n",
      "\n",
      "    -----\n",
      "    |   |\n",
      "    O   |\n",
      "   /|   |\n",
      "        |\n",
      "        |\n",
      "    ---------\n",
      "    \n",
      "Incorrect guesses: 3\n"
     ]
    },
    {
     "name": "stdin",
     "output_type": "stream",
     "text": [
      "Guess a letter:  m\n"
     ]
    },
    {
     "name": "stdout",
     "output_type": "stream",
     "text": [
      "Sorry, M is not in the word.\n",
      "\n",
      "Current word: P _ _ _ O _ _ _\n",
      "\n",
      "    -----\n",
      "    |   |\n",
      "    O   |\n",
      "   /|\\  |\n",
      "        |\n",
      "        |\n",
      "    ---------\n",
      "    \n",
      "Incorrect guesses: 4\n"
     ]
    },
    {
     "name": "stdin",
     "output_type": "stream",
     "text": [
      "Guess a letter:  i\n"
     ]
    },
    {
     "name": "stdout",
     "output_type": "stream",
     "text": [
      "Good job! I is in the word.\n",
      "\n",
      "Current word: P _ _ _ O _ I _\n",
      "\n",
      "    -----\n",
      "    |   |\n",
      "    O   |\n",
      "   /|\\  |\n",
      "        |\n",
      "        |\n",
      "    ---------\n",
      "    \n",
      "Incorrect guesses: 4\n"
     ]
    },
    {
     "name": "stdin",
     "output_type": "stream",
     "text": [
      "Guess a letter:  y\n"
     ]
    },
    {
     "name": "stdout",
     "output_type": "stream",
     "text": [
      "Good job! Y is in the word.\n",
      "\n",
      "Current word: P Y _ _ O _ I _\n",
      "\n",
      "    -----\n",
      "    |   |\n",
      "    O   |\n",
      "   /|\\  |\n",
      "        |\n",
      "        |\n",
      "    ---------\n",
      "    \n",
      "Incorrect guesses: 4\n"
     ]
    },
    {
     "name": "stdin",
     "output_type": "stream",
     "text": [
      "Guess a letter:  t\n"
     ]
    },
    {
     "name": "stdout",
     "output_type": "stream",
     "text": [
      "Good job! T is in the word.\n",
      "\n",
      "Current word: P Y T _ O _ I _\n",
      "\n",
      "    -----\n",
      "    |   |\n",
      "    O   |\n",
      "   /|\\  |\n",
      "        |\n",
      "        |\n",
      "    ---------\n",
      "    \n",
      "Incorrect guesses: 4\n"
     ]
    },
    {
     "name": "stdin",
     "output_type": "stream",
     "text": [
      "Guess a letter:  h\n"
     ]
    },
    {
     "name": "stdout",
     "output_type": "stream",
     "text": [
      "Good job! H is in the word.\n",
      "\n",
      "Current word: P Y T H O _ I _\n",
      "\n",
      "    -----\n",
      "    |   |\n",
      "    O   |\n",
      "   /|\\  |\n",
      "        |\n",
      "        |\n",
      "    ---------\n",
      "    \n",
      "Incorrect guesses: 4\n"
     ]
    },
    {
     "name": "stdin",
     "output_type": "stream",
     "text": [
      "Guess a letter:  n\n"
     ]
    },
    {
     "name": "stdout",
     "output_type": "stream",
     "text": [
      "Good job! N is in the word.\n",
      "\n",
      "Current word: P Y T H O N I _\n",
      "\n",
      "    -----\n",
      "    |   |\n",
      "    O   |\n",
      "   /|\\  |\n",
      "        |\n",
      "        |\n",
      "    ---------\n",
      "    \n",
      "Incorrect guesses: 4\n"
     ]
    },
    {
     "name": "stdin",
     "output_type": "stream",
     "text": [
      "Guess a letter:  c\n"
     ]
    },
    {
     "name": "stdout",
     "output_type": "stream",
     "text": [
      "Good job! C is in the word.\n",
      "\n",
      "Congratulations! You guessed the word: PYTHONIC\n"
     ]
    }
   ],
   "source": [
    "import random\n",
    "\n",
    "# List of words for the game\n",
    "word_list = [\"PROGRAMMING\", \"DEVELOPER\", \"HANGMAN\", \"COMPUTATION\", \"ALGORITHM\", \"PYTHONIC\"]\n",
    "\n",
    "# Randomly select a word from the list\n",
    "chosen_word = random.choice(word_list)\n",
    "\n",
    "# Initialize the game variables\n",
    "hidden_word = ['_'] * len(chosen_word)\n",
    "guessed_letters = set()\n",
    "incorrect_guesses = 0\n",
    "max_incorrect_guesses = 6\n",
    "\n",
    "# Hangman stages for visualization\n",
    "hangman_stages = [\n",
    "    \"\"\"\n",
    "    -----\n",
    "    |   |\n",
    "        |\n",
    "        |\n",
    "        |\n",
    "        |\n",
    "    ---------\n",
    "    \"\"\",\n",
    "    \"\"\"\n",
    "    -----\n",
    "    |   |\n",
    "    O   |\n",
    "        |\n",
    "        |\n",
    "        |\n",
    "    ---------\n",
    "    \"\"\",\n",
    "    \"\"\"\n",
    "    -----\n",
    "    |   |\n",
    "    O   |\n",
    "    |   |\n",
    "        |\n",
    "        |\n",
    "    ---------\n",
    "    \"\"\",\n",
    "    \"\"\"\n",
    "    -----\n",
    "    |   |\n",
    "    O   |\n",
    "   /|   |\n",
    "        |\n",
    "        |\n",
    "    ---------\n",
    "    \"\"\",\n",
    "    \"\"\"\n",
    "    -----\n",
    "    |   |\n",
    "    O   |\n",
    "   /|\\\\  |\n",
    "        |\n",
    "        |\n",
    "    ---------\n",
    "    \"\"\",\n",
    "    \"\"\"\n",
    "    -----\n",
    "    |   |\n",
    "    O   |\n",
    "   /|\\\\  |\n",
    "   /    |\n",
    "        |\n",
    "    ---------\n",
    "    \"\"\",\n",
    "    \"\"\"\n",
    "    -----\n",
    "    |   |\n",
    "    O   |\n",
    "   /|\\\\  |\n",
    "   / \\\\  |\n",
    "        |\n",
    "    ---------\n",
    "    \"\"\"\n",
    "]\n",
    "\n",
    "# Main game loop\n",
    "while incorrect_guesses < max_incorrect_guesses and '_' in hidden_word:\n",
    "    print(\"\\nCurrent word:\", \" \".join(hidden_word))\n",
    "    print(hangman_stages[incorrect_guesses])\n",
    "    print(f\"Incorrect guesses: {incorrect_guesses}\")\n",
    "    \n",
    "    # Prompt the user to guess a letter\n",
    "    guess = input(\"Guess a letter: \").upper()\n",
    "\n",
    "    if guess in guessed_letters:\n",
    "        print(\"You already guessed that letter.\")\n",
    "    elif guess in chosen_word:\n",
    "        # Update the hidden word with correct guesses\n",
    "        for i, letter in enumerate(chosen_word):\n",
    "            if letter == guess:\n",
    "                hidden_word[i] = guess\n",
    "        print(f\"Good job! {guess} is in the word.\")\n",
    "    else:\n",
    "        incorrect_guesses += 1\n",
    "        print(f\"Sorry, {guess} is not in the word.\")\n",
    "    \n",
    "    guessed_letters.add(guess)\n",
    "\n",
    "# Final game result\n",
    "if '_' not in hidden_word:\n",
    "    print(\"\\nCongratulations! You guessed the word:\", chosen_word)\n",
    "else:\n",
    "    print(\"\\nSorry, you ran out of guesses.\")\n",
    "    print(hangman_stages[incorrect_guesses])\n",
    "    print(\"The word was:\", chosen_word)\n"
   ]
  },
  {
   "cell_type": "code",
   "execution_count": null,
   "id": "6e2e7512-3d8c-4be5-87e2-26953add4303",
   "metadata": {},
   "outputs": [],
   "source": []
  }
 ],
 "metadata": {
  "kernelspec": {
   "display_name": "Python 3 (ipykernel)",
   "language": "python",
   "name": "python3"
  },
  "language_info": {
   "codemirror_mode": {
    "name": "ipython",
    "version": 3
   },
   "file_extension": ".py",
   "mimetype": "text/x-python",
   "name": "python",
   "nbconvert_exporter": "python",
   "pygments_lexer": "ipython3",
   "version": "3.11.7"
  }
 },
 "nbformat": 4,
 "nbformat_minor": 5
}
